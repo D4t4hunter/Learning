{
 "cells": [
  {
   "cell_type": "code",
   "execution_count": 3,
   "metadata": {},
   "outputs": [
    {
     "name": "stdout",
     "output_type": "stream",
     "text": [
      "2.0.0\n"
     ]
    }
   ],
   "source": [
    "import tensorflow as tf\n",
    "print(tf.__version__)"
   ]
  },
  {
   "cell_type": "markdown",
   "metadata": {},
   "source": [
    "# The Sequential model API"
   ]
  },
  {
   "cell_type": "markdown",
   "metadata": {},
 
  },
  {
   "cell_type": "markdown",
   "metadata": {},
   "source": [
    "***\n",
    "<a id=\"coding_tutorial_1\"></a>\n",
    "## Building a Sequential model"
   ]
  },
  {
   "cell_type": "code",
   "execution_count": 4,
   "metadata": {},
   "outputs": [],
   "source": [
    "from tensorflow.keras.models import Sequential\n",
    "from tensorflow.keras.layers import Dense, Flatten, Softmax"
   ]
  },
  {
   "cell_type": "markdown",
   "metadata": {},
   "source": [
    "#### Build a feedforward neural network model"
   ]
  },
  {
   "cell_type": "code",
   "execution_count": 5,
   "metadata": {
    "scrolled": true
   },
   "outputs": [],
   "source": [
    "# Build the Sequential feedforward neural network model\n",
    "model = Sequential([\n",
    "    Flatten(input_shape = (28,28)),\n",
    "    Dense(16, activation ='relu'),\n",
    "    Dense(16, activation ='softplus'),\n",
    "    Dense(10, activation ='softmax')\n",
    "])"
   ]
  },
  {
   "cell_type": "code",
   "execution_count": 6,
   "metadata": {
    "scrolled": true
   },
   "outputs": [
    {
     "name": "stdout",
     "output_type": "stream",
     "text": [
      "Model: \"sequential\"\n",
      "_________________________________________________________________\n",
      "Layer (type)                 Output Shape              Param #   \n",
      "=================================================================\n",
      "flatten (Flatten)            (None, 784)               0         \n",
      "_________________________________________________________________\n",
      "dense (Dense)                (None, 16)                12560     \n",
      "_________________________________________________________________\n",
      "dense_1 (Dense)              (None, 16)                272       \n",
      "_________________________________________________________________\n",
      "dense_2 (Dense)              (None, 10)                170       \n",
      "=================================================================\n",
      "Total params: 13,002\n",
      "Trainable params: 13,002\n",
      "Non-trainable params: 0\n",
      "_________________________________________________________________\n"
     ]
    }
   ],
   "source": [
    "# Print the model summary\n",
    "\n",
    "model.summary()"
   ]
  },
  {
   "cell_type": "markdown",
   "metadata": {},
   "source": [
    "***\n",
    "<a id=\"coding_tutorial_2\"></a>\n",
    "## Convolutional and pooling layers"
   ]
  },
  {
   "cell_type": "code",
   "execution_count": 7,
   "metadata": {},
   "outputs": [],
   "source": [
    "from tensorflow.keras.models import Sequential\n",
    "from tensorflow.keras.layers import Dense, Flatten, Conv2D, MaxPooling2D"
   ]
  },
  {
   "cell_type": "markdown",
   "metadata": {},
   "source": [
    "#### Build a convolutional neural network model"
   ]
  },
  {
   "cell_type": "code",
   "execution_count": 8,
   "metadata": {},
   "outputs": [],
   "source": [
    "# Build the Sequential convolutional neural network model\n",
    "model = Sequential ([\n",
    "    Conv2D(16,(3,3), activation='relu', input_shape=(28,28,1)),\n",
    "    MaxPooling2D((3,3)),\n",
    "    Flatten(),\n",
    "    Dense(10, activation= 'softmax')\n",
    "])\n"
   ]
  },
  {
   "cell_type": "code",
   "execution_count": 9,
   "metadata": {},
   "outputs": [
    {
     "name": "stdout",
     "output_type": "stream",
     "text": [
      "Model: \"sequential_1\"\n",
      "_________________________________________________________________\n",
      "Layer (type)                 Output Shape              Param #   \n",
      "=================================================================\n",
      "conv2d (Conv2D)              (None, 26, 26, 16)        160       \n",
      "_________________________________________________________________\n",
      "max_pooling2d (MaxPooling2D) (None, 8, 8, 16)          0         \n",
      "_________________________________________________________________\n",
      "flatten_1 (Flatten)          (None, 1024)              0         \n",
      "_________________________________________________________________\n",
      "dense_3 (Dense)              (None, 10)                10250     \n",
      "=================================================================\n",
      "Total params: 10,410\n",
      "Trainable params: 10,410\n",
      "Non-trainable params: 0\n",
      "_________________________________________________________________\n"
     ]
    }
   ],
   "source": [
    "# Print the model summary\n",
    "model.summary ()\n"
   ]
  },
  {
   "cell_type": "markdown",
   "metadata": {},
   "source": [
    "***\n",
    "<a id=\"coding_tutorial_3\"></a>\n",
    "## The compile method"
   ]
  },
  {
   "cell_type": "markdown",
   "metadata": {},
   "source": [
    "#### Compile the model"
   ]
  },
  {
   "cell_type": "code",
   "execution_count": 10,
   "metadata": {},
   "outputs": [],
   "source": [
    "# Define the model optimizer, loss function and metrics\n",
    "\n",
    "opt = tf.keras.optimizers.Adam(learning_rate=0.005)\n",
    "acc = tf.keras.metrics.SparseCategoricalAccuracy()\n",
    "mae = tf.keras.metrics.MeanAbsoluteError()\n",
    "\n",
    "model.compile(optimizer=opt,\n",
    "             loss='sparse_categorical_crossentropy',\n",
    "             metrics=['acc','mae'])\n"
   ]
  },
  {
   "cell_type": "code",
   "execution_count": 11,
   "metadata": {},
   "outputs": [
    {
     "name": "stdout",
     "output_type": "stream",
     "text": [
      "sparse_categorical_crossentropy\n",
      "<tensorflow.python.keras.optimizer_v2.adam.Adam object at 0x7342080d3d30>\n",
      "[<tensorflow.python.keras.metrics.MeanMetricWrapper object at 0x73420808aba8>, <tensorflow.python.keras.metrics.MeanMetricWrapper object at 0x73420808af60>]\n",
      "<tf.Variable 'learning_rate:0' shape=() dtype=float32, numpy=0.005>\n"
     ]
    }
   ],
   "source": [
    "# Print the resulting model attributes\n",
    "print(model.loss)\n",
    "print(model.optimizer)\n",
    "print(model.metrics)\n",
    "print(model.optimizer.lr)\n"
   ]
  },
  {
   "cell_type": "markdown",
   "metadata": {},
   "source": [
    "***\n",
    "<a id=\"coding_tutorial_4\"></a>\n",
    "## The fit method"
   ]
  },
  {
   "cell_type": "code",
   "execution_count": 12,
   "metadata": {},
   "outputs": [],
   "source": [
    "from tensorflow.keras.preprocessing import image\n",
    "import matplotlib.pyplot as plt\n",
    "import numpy as np\n",
    "import pandas as pd"
   ]
  },
  {
   "cell_type": "markdown",
   "metadata": {},
   "source": [
    "#### Load the data"
   ]
  },
  {
   "cell_type": "code",
   "execution_count": 13,
   "metadata": {},
   "outputs": [
    {
     "name": "stdout",
     "output_type": "stream",
     "text": [
      "Downloading data from https://storage.googleapis.com/tensorflow/tf-keras-datasets/train-labels-idx1-ubyte.gz\n",
      "32768/29515 [=================================] - 0s 0us/step\n",
      "Downloading data from https://storage.googleapis.com/tensorflow/tf-keras-datasets/train-images-idx3-ubyte.gz\n",
      "26427392/26421880 [==============================] - 0s 0us/step\n",
      "Downloading data from https://storage.googleapis.com/tensorflow/tf-keras-datasets/t10k-labels-idx1-ubyte.gz\n",
      "8192/5148 [===============================================] - 0s 0us/step\n",
      "Downloading data from https://storage.googleapis.com/tensorflow/tf-keras-datasets/t10k-images-idx3-ubyte.gz\n",
      "4423680/4422102 [==============================] - 0s 0us/step\n"
     ]
    }
   ],
   "source": [
    "# Load the Fashion-MNIST dataset\n",
    "\n",
    "fashion_mnist_data = tf.keras.datasets.fashion_mnist\n",
    "(train_images, train_labels), (test_images, test_labels) = fashion_mnist_data.load_data()"
   ]
  },
  {
   "cell_type": "code",
   "execution_count": 14,
   "metadata": {},
   "outputs": [
    {
     "data": {
      "text/plain": [
       "(60000, 28, 28)"
      ]
     },
     "execution_count": 14,
     "metadata": {},
     "output_type": "execute_result"
    }
   ],
   "source": [
    "# Print the shape of the training data\n",
    "\n",
    "train_images.shape"
   ]
  },
  {
   "cell_type": "code",
   "execution_count": 15,
   "metadata": {},
   "outputs": [
    {
     "name": "stdout",
     "output_type": "stream",
     "text": [
      "9\n"
     ]
    }
   ],
   "source": [
    "# Define the labels\n",
    "\n",
    "labels = [\n",
    "    'T-shirt/top',\n",
    "    'Trouser',\n",
    "    'Pullover',\n",
    "    'Dress',\n",
    "    'Coat',\n",
    "    'Sandal',\n",
    "    'Shirt',\n",
    "    'Sneaker',\n",
    "    'Bag',\n",
    "    'Ankle boot'\n",
    "]\n",
    "print(train_labels[0])"
   ]
  },
  {
   "cell_type": "code",
   "execution_count": 16,
   "metadata": {},
   "outputs": [],
   "source": [
    "# Rescale the image values so that they lie in between 0 and 1.\n",
    "train_images = train_images / 255\n",
    "test_images = test_images / 255\n"
   ]
  },
  {
   "cell_type": "code",
   "execution_count": 17,
   "metadata": {},
   "outputs": [
    {
     "data": {
      "image/png": "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\n",
      "text/plain": [
       "<Figure size 432x288 with 1 Axes>"
      ]
     },
     "metadata": {
      "needs_background": "light"
     },
     "output_type": "display_data"
    },
    {
     "name": "stdout",
     "output_type": "stream",
     "text": [
      "label: Ankle boot\n"
     ]
    }
   ],
   "source": [
    "# Display one of the images\n",
    "\n",
    "i = 0\n",
    "img = train_images [i,:,:]\n",
    "plt.imshow(img)\n",
    "plt.show()\n",
    "print(f\"label: {labels[train_labels[i]]}\")"
   ]
  },
  {
   "cell_type": "markdown",
   "metadata": {},
   "source": [
    "#### Fit the model"
   ]
  },
  {
   "cell_type": "code",
   "execution_count": 18,
   "metadata": {},
   "outputs": [
    {
     "name": "stdout",
     "output_type": "stream",
     "text": [
      "Train on 60000 samples\n",
      "Epoch 1/8\n",
      "60000/60000 [==============================] - 55s 918us/sample - loss: 0.5526 - acc: 0.8085 - mae: 4.4200 - loss: \n",
      "Epoch 2/8\n",
      "60000/60000 [==============================] - 51s 855us/sample - loss: 0.3682 - acc: 0.8687 - mae: 4.4200\n",
      "Epoch 3/8\n",
      "60000/60000 [==============================] - 51s 852us/sample - loss: 0.3328 - acc: 0.8810 - mae: 4.4200\n",
      "Epoch 4/8\n",
      "60000/60000 [==============================] - 51s 857us/sample - loss: 0.3194 - acc: 0.8858 - mae: 4.4200\n",
      "Epoch 5/8\n",
      "60000/60000 [==============================] - 51s 858us/sample - loss: 0.3027 - acc: 0.8919 - mae: 4.4200\n",
      "Epoch 6/8\n",
      "60000/60000 [==============================] - 51s 848us/sample - loss: 0.2963 - acc: 0.8939 - mae: 4.4200\n",
      "Epoch 7/8\n",
      "60000/60000 [==============================] - 52s 862us/sample - loss: 0.2853 - acc: 0.8977 - mae: 4.4200 - loss: 0.2868 - acc: 0.8968\n",
      "Epoch 8/8\n",
      "60000/60000 [==============================] - 52s 858us/sample - loss: 0.2794 - acc: 0.8990 - mae: 4.4200\n"
     ]
    }
   ],
   "source": [
    "# Fit the model\n",
    "history = model.fit(train_images[...,np.newaxis],train_labels, epochs=8, batch_size=256)\n"
   ]
  },
  {
   "cell_type": "markdown",
   "metadata": {},
   "source": [
    "#### Plot training history"
   ]
  },
  {
   "cell_type": "code",
   "execution_count": 19,
   "metadata": {},
   "outputs": [
    {
     "data": {
      "text/html": [
       "<div>\n",
       "<style scoped>\n",
       "    .dataframe tbody tr th:only-of-type {\n",
       "        vertical-align: middle;\n",
       "    }\n",
       "\n",
       "    .dataframe tbody tr th {\n",
       "        vertical-align: top;\n",
       "    }\n",
       "\n",
       "    .dataframe thead th {\n",
       "        text-align: right;\n",
       "    }\n",
       "</style>\n",
       "<table border=\"1\" class=\"dataframe\">\n",
       "  <thead>\n",
       "    <tr style=\"text-align: right;\">\n",
       "      <th></th>\n",
       "      <th>loss</th>\n",
       "      <th>acc</th>\n",
       "      <th>mae</th>\n",
       "    </tr>\n",
       "  </thead>\n",
       "  <tbody>\n",
       "    <tr>\n",
       "      <th>0</th>\n",
       "      <td>0.552601</td>\n",
       "      <td>0.808500</td>\n",
       "      <td>4.419999</td>\n",
       "    </tr>\n",
       "    <tr>\n",
       "      <th>1</th>\n",
       "      <td>0.368171</td>\n",
       "      <td>0.868683</td>\n",
       "      <td>4.420000</td>\n",
       "    </tr>\n",
       "    <tr>\n",
       "      <th>2</th>\n",
       "      <td>0.332771</td>\n",
       "      <td>0.881000</td>\n",
       "      <td>4.419999</td>\n",
       "    </tr>\n",
       "    <tr>\n",
       "      <th>3</th>\n",
       "      <td>0.319359</td>\n",
       "      <td>0.885833</td>\n",
       "      <td>4.420000</td>\n",
       "    </tr>\n",
       "    <tr>\n",
       "      <th>4</th>\n",
       "      <td>0.302700</td>\n",
       "      <td>0.891900</td>\n",
       "      <td>4.419999</td>\n",
       "    </tr>\n",
       "  </tbody>\n",
       "</table>\n",
       "</div>"
      ],
      "text/plain": [
       "       loss       acc       mae\n",
       "0  0.552601  0.808500  4.419999\n",
       "1  0.368171  0.868683  4.420000\n",
       "2  0.332771  0.881000  4.419999\n",
       "3  0.319359  0.885833  4.420000\n",
       "4  0.302700  0.891900  4.419999"
      ]
     },
     "execution_count": 19,
     "metadata": {},
     "output_type": "execute_result"
    }
   ],
   "source": [
    "# Load the history into a pandas Dataframe\n",
    "\n",
    "df = pd.DataFrame(history.history)\n",
    "df.head()"
   ]
  },
  {
   "cell_type": "code",
   "execution_count": 20,
   "metadata": {},
   "outputs": [
    {
     "data": {
      "image/png": "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\n",
      "text/plain": [
       "<Figure size 432x288 with 1 Axes>"
      ]
     },
     "metadata": {
      "needs_background": "light"
     },
     "output_type": "display_data"
    }
   ],
   "source": [
    "# Make a plot for the loss\n",
    "\n",
    "loss_plot = df.plot(y = \"loss\", title = \"Loss vs. Epochs\" , legend=False)\n",
    "#loss_plot.set(xlabel=\"Epochs\",ylable=\"Loss\")"
   ]
  },
  {
   "cell_type": "code",
   "execution_count": 21,
   "metadata": {},
   "outputs": [
    {
     "data": {
      "image/png": "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\n",
      "text/plain": [
       "<Figure size 432x288 with 1 Axes>"
      ]
     },
     "metadata": {
      "needs_background": "light"
     },
     "output_type": "display_data"
    }
   ],
   "source": [
    "# Make a plot for the accuracy\n",
    "accuracy_plot = df.plot(y = \"acc\", title = \"Accuracy vs. Epochs\" )\n"
   ]
  },
  {
   "cell_type": "code",
   "execution_count": 22,
   "metadata": {},
   "outputs": [
    {
     "data": {
      "image/png": "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\n",
      "text/plain": [
       "<Figure size 432x288 with 1 Axes>"
      ]
     },
     "metadata": {
      "needs_background": "light"
     },
     "output_type": "display_data"
    }
   ],
   "source": [
    "# Make a plot for the additional metric\n",
    "\n",
    "metrics_plot = df.plot(y = \"mae\", title = \"Metrics vs. Epochs\" )"
   ]
  },
  {
   "cell_type": "markdown",
   "metadata": {},
   "source": [
    "***\n",
    "<a id=\"coding_tutorial_5\"></a>\n",
    "## The evaluate and predict methods"
   ]
  },
  {
   "cell_type": "code",
   "execution_count": 23,
   "metadata": {},
   "outputs": [],
   "source": [
    "import matplotlib.pyplot as plt\n",
    "import numpy as np"
   ]
  },
  {
   "cell_type": "markdown",
   "metadata": {},
   "source": [
    "#### Evaluate the model on the test set"
   ]
  },
  {
   "cell_type": "code",
   "execution_count": 25,
   "metadata": {},
   "outputs": [
    {
     "name": "stdout",
     "output_type": "stream",
     "text": [
      "10000/1 - 5s - loss: 0.4023 - acc: 0.8862 - mae: 4.4200\n"
     ]
    }
   ],
   "source": [
    "# Evaluate the model\n",
    "test_loss, test_accuracy, test_mae = model.evaluate(test_images[...,np.newaxis], test_labels, verbose=2)\n"
   ]
  },
  {
   "cell_type": "markdown",
   "metadata": {},
   "source": [
    "#### Make predictions from the model"
   ]
  },
  {
   "cell_type": "code",
   "execution_count": 35,
   "metadata": {},
   "outputs": [
    {
     "data": {
      "image/png": "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\n",
      "text/plain": [
       "<Figure size 432x288 with 1 Axes>"
      ]
     },
     "metadata": {
      "needs_background": "light"
     },
     "output_type": "display_data"
    },
    {
     "name": "stdout",
     "output_type": "stream",
     "text": [
      "Label: T-shirt/top\n"
     ]
    }
   ],
   "source": [
    "# Choose a random test image\n",
    "\n",
    "random_inx = np.random.choice(test_images.shape[0])\n",
    "inx = 400\n",
    "\n",
    "test_image = test_images[inx]\n",
    "plt.imshow(test_image)\n",
    "plt.show()\n",
    "print(f\"Label: {labels[test_labels[inx]]}\")"
   ]
  },
  {
   "cell_type": "code",
   "execution_count": 36,
   "metadata": {},
   "outputs": [
    {
     "name": "stdout",
     "output_type": "stream",
     "text": [
      "Model prediction:T-shirt/top\n"
     ]
    }
   ],
   "source": [
    "# Get the model predictions\n",
    "\n",
    "predictions = model.predict(test_image[np.newaxis,...,np.newaxis])\n",
    "print(f\"Model prediction:{labels[np.argmax(predictions)]}\")"
   ]
  },
  {
   "cell_type": "code",
   "execution_count": null,
   "metadata": {},
   "outputs": [],
   "source": []
  }
 ],
 "metadata": {
  "kernelspec": {
   "display_name": "Python 3",
   "language": "python",
   "name": "python3"
  },
  "language_info": {
   "codemirror_mode": {
    "name": "ipython",
    "version": 3
   },
   "file_extension": ".py",
   "mimetype": "text/x-python",
   "name": "python",
   "nbconvert_exporter": "python",
   "pygments_lexer": "ipython3",
   "version": "3.7.1"
  }
 },
 "nbformat": 4,
 "nbformat_minor": 2
}
